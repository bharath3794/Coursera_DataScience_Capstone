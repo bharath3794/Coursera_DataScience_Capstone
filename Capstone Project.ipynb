{
 "cells": [
  {
   "cell_type": "markdown",
   "id": "civilian-imaging",
   "metadata": {},
   "source": [
    "# Cousera IBM Data Science Professional Certificate\n",
    "## Capstone Project"
   ]
  },
  {
   "cell_type": "markdown",
   "id": "prerequisite-wales",
   "metadata": {},
   "source": [
    "This is created as a Capstone Project for Coursera IBM Data Science Professional Certificate. All my work will be produced here."
   ]
  },
  {
   "cell_type": "code",
   "execution_count": 1,
   "id": "spatial-purpose",
   "metadata": {},
   "outputs": [
    {
     "name": "stdout",
     "output_type": "stream",
     "text": [
      "Hello Capstone Project Course!\n"
     ]
    }
   ],
   "source": [
    "import pandas as pd\n",
    "import numpy as np\n",
    "\n",
    "print(\"Hello Capstone Project Course!\")"
   ]
  },
  {
   "cell_type": "code",
   "execution_count": null,
   "id": "abandoned-latvia",
   "metadata": {},
   "outputs": [],
   "source": []
  }
 ],
 "metadata": {
  "kernelspec": {
   "display_name": "Python 3",
   "language": "python",
   "name": "python3"
  },
  "language_info": {
   "codemirror_mode": {
    "name": "ipython",
    "version": 3
   },
   "file_extension": ".py",
   "mimetype": "text/x-python",
   "name": "python",
   "nbconvert_exporter": "python",
   "pygments_lexer": "ipython3",
   "version": "3.8.3"
  }
 },
 "nbformat": 4,
 "nbformat_minor": 5
}
